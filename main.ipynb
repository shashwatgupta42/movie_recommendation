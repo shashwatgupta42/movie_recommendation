{
 "cells": [
  {
   "cell_type": "markdown",
   "id": "a2a1c7ae-a27b-46b4-9047-920172751e38",
   "metadata": {},
   "source": [
    "## Introduction\n",
    "In this notebook, I apply collaborative filtering (from scratch) for movie recommendations. The dataset contains 100836 ratings by 610 users across 9742 movies. \n",
    "\n",
    "The model has no information about the movies except user ratings. The attempt is to extract valuable information about the movies and the users using such limited data.\n",
    "Fundamentally, this project aims to predict user rating for a movie that the user has not yet rated.\n",
    "\n",
    "Using the derived information, we will be able to perform the following tasks - \n",
    "1) Predict movies for a given user\n",
    "2) Predict how a user will rate a given movie\n",
    "3) Measure the difference between two movies\n",
    "4) Measure the difference between two users\n",
    "5) Predict movies similar to a given movie"
   ]
  },
  {
   "cell_type": "code",
   "execution_count": 1,
   "id": "02e99efa-83d3-44ef-8722-02a78df322e0",
   "metadata": {},
   "outputs": [],
   "source": [
    "import pandas as pd\n",
    "import numpy as np\n",
    "import matplotlib.pyplot as plt\n",
    "import math\n",
    "import time\n",
    "import pickle\n",
    "from itertools import combinations\n",
    "matrix_dtype='float32'"
   ]
  },
  {
   "cell_type": "markdown",
   "id": "b869f8f6-9f12-4903-a846-b0cb7554e513",
   "metadata": {},
   "source": [
    "### Load data\n",
    "Source - https://grouplens.org/datasets/movielens/latest/ <br>\n",
    "About the dataset - https://files.grouplens.org/datasets/movielens/ml-latest-small-README.html"
   ]
  },
  {
   "cell_type": "code",
   "execution_count": 150,
   "id": "4d382c52-a9f2-462a-a477-37880d5adb46",
   "metadata": {},
   "outputs": [
    {
     "data": {
      "text/html": [
       "<div>\n",
       "<style scoped>\n",
       "    .dataframe tbody tr th:only-of-type {\n",
       "        vertical-align: middle;\n",
       "    }\n",
       "\n",
       "    .dataframe tbody tr th {\n",
       "        vertical-align: top;\n",
       "    }\n",
       "\n",
       "    .dataframe thead th {\n",
       "        text-align: right;\n",
       "    }\n",
       "</style>\n",
       "<table border=\"1\" class=\"dataframe\">\n",
       "  <thead>\n",
       "    <tr style=\"text-align: right;\">\n",
       "      <th></th>\n",
       "      <th>movieId</th>\n",
       "      <th>title</th>\n",
       "    </tr>\n",
       "  </thead>\n",
       "  <tbody>\n",
       "    <tr>\n",
       "      <th>0</th>\n",
       "      <td>1</td>\n",
       "      <td>Toy Story (1995)</td>\n",
       "    </tr>\n",
       "    <tr>\n",
       "      <th>1</th>\n",
       "      <td>2</td>\n",
       "      <td>Jumanji (1995)</td>\n",
       "    </tr>\n",
       "    <tr>\n",
       "      <th>2</th>\n",
       "      <td>3</td>\n",
       "      <td>Grumpier Old Men (1995)</td>\n",
       "    </tr>\n",
       "    <tr>\n",
       "      <th>3</th>\n",
       "      <td>4</td>\n",
       "      <td>Waiting to Exhale (1995)</td>\n",
       "    </tr>\n",
       "    <tr>\n",
       "      <th>4</th>\n",
       "      <td>5</td>\n",
       "      <td>Father of the Bride Part II (1995)</td>\n",
       "    </tr>\n",
       "    <tr>\n",
       "      <th>...</th>\n",
       "      <td>...</td>\n",
       "      <td>...</td>\n",
       "    </tr>\n",
       "    <tr>\n",
       "      <th>9737</th>\n",
       "      <td>193581</td>\n",
       "      <td>Black Butler: Book of the Atlantic (2017)</td>\n",
       "    </tr>\n",
       "    <tr>\n",
       "      <th>9738</th>\n",
       "      <td>193583</td>\n",
       "      <td>No Game No Life: Zero (2017)</td>\n",
       "    </tr>\n",
       "    <tr>\n",
       "      <th>9739</th>\n",
       "      <td>193585</td>\n",
       "      <td>Flint (2017)</td>\n",
       "    </tr>\n",
       "    <tr>\n",
       "      <th>9740</th>\n",
       "      <td>193587</td>\n",
       "      <td>Bungo Stray Dogs: Dead Apple (2018)</td>\n",
       "    </tr>\n",
       "    <tr>\n",
       "      <th>9741</th>\n",
       "      <td>193609</td>\n",
       "      <td>Andrew Dice Clay: Dice Rules (1991)</td>\n",
       "    </tr>\n",
       "  </tbody>\n",
       "</table>\n",
       "<p>9742 rows × 2 columns</p>\n",
       "</div>"
      ],
      "text/plain": [
       "      movieId                                      title\n",
       "0           1                           Toy Story (1995)\n",
       "1           2                             Jumanji (1995)\n",
       "2           3                    Grumpier Old Men (1995)\n",
       "3           4                   Waiting to Exhale (1995)\n",
       "4           5         Father of the Bride Part II (1995)\n",
       "...       ...                                        ...\n",
       "9737   193581  Black Butler: Book of the Atlantic (2017)\n",
       "9738   193583               No Game No Life: Zero (2017)\n",
       "9739   193585                               Flint (2017)\n",
       "9740   193587        Bungo Stray Dogs: Dead Apple (2018)\n",
       "9741   193609        Andrew Dice Clay: Dice Rules (1991)\n",
       "\n",
       "[9742 rows x 2 columns]"
      ]
     },
     "execution_count": 150,
     "metadata": {},
     "output_type": "execute_result"
    }
   ],
   "source": [
    "movies = pd.read_csv('ml-latest-small/movies.csv')[['movieId', 'title']]\n",
    "movies"
   ]
  },
  {
   "cell_type": "code",
   "execution_count": 151,
   "id": "ec154e06-184c-4748-a119-8c8ef469096a",
   "metadata": {},
   "outputs": [],
   "source": [
    "ratings_raw = pd.read_csv('ml-latest-small/ratings.csv')[['userId', 'movieId', 'rating']]"
   ]
  },
  {
   "cell_type": "markdown",
   "id": "36181586-aee3-44aa-9cde-4d803048858e",
   "metadata": {},
   "source": [
    "A lot of the movies have only 1 rating. I think this may affect the predictions by adding noise since there are not enough ratings for these movies to reliably extract the features.\n",
    "\n",
    "The following function removes those movies that have less than a given number of ratings."
   ]
  },
  {
   "cell_type": "code",
   "execution_count": 153,
   "id": "1dc8ae9f-7e94-42d1-ba2d-a2df77dea342",
   "metadata": {},
   "outputs": [],
   "source": [
    "def filter_ratings(filter_by, df=ratings_raw):\n",
    "    # removes the movies that have less number of ratings than 'filter_by'\n",
    "    counts = dict(df['movieId'].value_counts())\n",
    "    wanted_ids = []\n",
    "    for id in counts:\n",
    "        if counts[id] >= filter_by:\n",
    "            wanted_ids.append(id)\n",
    "    filtered_df = df[df['movieId'].isin(wanted_ids)]\n",
    "    return filtered_df"
   ]
  },
  {
   "cell_type": "code",
   "execution_count": 154,
   "id": "5a6e1d21-4532-41e7-b8d0-ea96c9517f22",
   "metadata": {},
   "outputs": [],
   "source": [
    "ratings = filter_ratings(filter_by=1).copy() # try changing the 'filter_by' value; it improves recommendations in some cases"
   ]
  },
  {
   "cell_type": "markdown",
   "id": "df5531ad-4130-4501-be36-05dda6c855dd",
   "metadata": {},
   "source": [
    "The 'movie_idx' column shows the index of the movie in the matrices"
   ]
  },
  {
   "cell_type": "code",
   "execution_count": 155,
   "id": "898a71c6-ccd2-4374-9c4d-bdccd59ba891",
   "metadata": {},
   "outputs": [
    {
     "data": {
      "text/html": [
       "<div>\n",
       "<style scoped>\n",
       "    .dataframe tbody tr th:only-of-type {\n",
       "        vertical-align: middle;\n",
       "    }\n",
       "\n",
       "    .dataframe tbody tr th {\n",
       "        vertical-align: top;\n",
       "    }\n",
       "\n",
       "    .dataframe thead th {\n",
       "        text-align: right;\n",
       "    }\n",
       "</style>\n",
       "<table border=\"1\" class=\"dataframe\">\n",
       "  <thead>\n",
       "    <tr style=\"text-align: right;\">\n",
       "      <th></th>\n",
       "      <th>userId</th>\n",
       "      <th>movieId</th>\n",
       "      <th>movie_idx</th>\n",
       "      <th>rating</th>\n",
       "    </tr>\n",
       "  </thead>\n",
       "  <tbody>\n",
       "    <tr>\n",
       "      <th>0</th>\n",
       "      <td>1</td>\n",
       "      <td>1</td>\n",
       "      <td>0</td>\n",
       "      <td>4.0</td>\n",
       "    </tr>\n",
       "    <tr>\n",
       "      <th>1</th>\n",
       "      <td>1</td>\n",
       "      <td>3</td>\n",
       "      <td>2</td>\n",
       "      <td>4.0</td>\n",
       "    </tr>\n",
       "    <tr>\n",
       "      <th>2</th>\n",
       "      <td>1</td>\n",
       "      <td>6</td>\n",
       "      <td>5</td>\n",
       "      <td>4.0</td>\n",
       "    </tr>\n",
       "    <tr>\n",
       "      <th>3</th>\n",
       "      <td>1</td>\n",
       "      <td>47</td>\n",
       "      <td>43</td>\n",
       "      <td>5.0</td>\n",
       "    </tr>\n",
       "    <tr>\n",
       "      <th>4</th>\n",
       "      <td>1</td>\n",
       "      <td>50</td>\n",
       "      <td>46</td>\n",
       "      <td>5.0</td>\n",
       "    </tr>\n",
       "    <tr>\n",
       "      <th>...</th>\n",
       "      <td>...</td>\n",
       "      <td>...</td>\n",
       "      <td>...</td>\n",
       "      <td>...</td>\n",
       "    </tr>\n",
       "    <tr>\n",
       "      <th>100831</th>\n",
       "      <td>610</td>\n",
       "      <td>166534</td>\n",
       "      <td>9416</td>\n",
       "      <td>4.0</td>\n",
       "    </tr>\n",
       "    <tr>\n",
       "      <th>100832</th>\n",
       "      <td>610</td>\n",
       "      <td>168248</td>\n",
       "      <td>9443</td>\n",
       "      <td>5.0</td>\n",
       "    </tr>\n",
       "    <tr>\n",
       "      <th>100833</th>\n",
       "      <td>610</td>\n",
       "      <td>168250</td>\n",
       "      <td>9444</td>\n",
       "      <td>5.0</td>\n",
       "    </tr>\n",
       "    <tr>\n",
       "      <th>100834</th>\n",
       "      <td>610</td>\n",
       "      <td>168252</td>\n",
       "      <td>9445</td>\n",
       "      <td>5.0</td>\n",
       "    </tr>\n",
       "    <tr>\n",
       "      <th>100835</th>\n",
       "      <td>610</td>\n",
       "      <td>170875</td>\n",
       "      <td>9485</td>\n",
       "      <td>3.0</td>\n",
       "    </tr>\n",
       "  </tbody>\n",
       "</table>\n",
       "<p>100836 rows × 4 columns</p>\n",
       "</div>"
      ],
      "text/plain": [
       "        userId  movieId  movie_idx  rating\n",
       "0            1        1          0     4.0\n",
       "1            1        3          2     4.0\n",
       "2            1        6          5     4.0\n",
       "3            1       47         43     5.0\n",
       "4            1       50         46     5.0\n",
       "...        ...      ...        ...     ...\n",
       "100831     610   166534       9416     4.0\n",
       "100832     610   168248       9443     5.0\n",
       "100833     610   168250       9444     5.0\n",
       "100834     610   168252       9445     5.0\n",
       "100835     610   170875       9485     3.0\n",
       "\n",
       "[100836 rows x 4 columns]"
      ]
     },
     "execution_count": 155,
     "metadata": {},
     "output_type": "execute_result"
    }
   ],
   "source": [
    "n_m = len(ratings.movieId.unique()) #number of movies\n",
    "n_u = len(ratings.userId.unique()) #number of users\n",
    "n = 20 #number of features\n",
    "movie_idx = np.zeros((n_m, 2), dtype='int')\n",
    "movie_idx[:, 0], movie_idx[:, 1] = np.sort(ratings.movieId.unique()), tuple(range(n_m))\n",
    "movie_idx_dict = dict(movie_idx)\n",
    "ratings['movie_idx'] = ratings['movieId'].map(movie_idx_dict)\n",
    "ratings = ratings[['userId', 'movieId', 'movie_idx', 'rating']]\n",
    "ratings"
   ]
  },
  {
   "cell_type": "code",
   "execution_count": 161,
   "id": "9f97ea7f-a7a1-4fa3-a969-3f2fc11d4994",
   "metadata": {},
   "outputs": [
    {
     "name": "stdout",
     "output_type": "stream",
     "text": [
      "Y Shape: (9724, 610)\n",
      "W Shape: (610, 20)\n",
      "X Shape: (9724, 20)\n",
      "b Shape: (1, 610)\n",
      "No. of movies (n_m): 9724\n",
      "No. of users (n_u): 610\n",
      "No. of features (n): 20\n"
     ]
    }
   ],
   "source": [
    "Y = np.zeros((n_m, n_u), dtype=matrix_dtype)\n",
    "W = np.random.normal(size=(n_u, n)).astype(matrix_dtype)\n",
    "X = np.random.normal(size=(n_m, n)).astype(matrix_dtype)\n",
    "b = np.random.normal(size=(1, n_u)).astype(matrix_dtype)\n",
    "print(f\"Y Shape: {Y.shape}\")\n",
    "print(f\"W Shape: {W.shape}\")\n",
    "print(f\"X Shape: {X.shape}\")\n",
    "print(f\"b Shape: {b.shape}\")\n",
    "print(f\"No. of movies (n_m): {n_m}\")\n",
    "print(f\"No. of users (n_u): {n_u}\")\n",
    "print(f\"No. of features (n): {n}\")"
   ]
  },
  {
   "cell_type": "code",
   "execution_count": 169,
   "id": "81bcbcb7-3b96-42b5-85f6-685829229ff6",
   "metadata": {},
   "outputs": [],
   "source": [
    "Y_rows, Y_columns = ratings['movie_idx'], ratings['userId'] - 1\n",
    "Y[Y_rows, Y_columns] = ratings['rating']\n",
    "R = (Y != 0).astype('int')"
   ]
  },
  {
   "cell_type": "markdown",
   "id": "e9132ed2-3e7d-456d-bf54-794584ac9da9",
   "metadata": {},
   "source": [
    "<b>We can also use trained parameters. These have been saved as binary files in the 'trained_parameters' folder.</b>\n",
    "\n",
    "trained_param_2.dat seems to give good predictions."
   ]
  },
  {
   "cell_type": "code",
   "execution_count": 9,
   "id": "80d0bc09-af99-4235-add0-364f52607d0c",
   "metadata": {},
   "outputs": [],
   "source": [
    "def load_param(filename): # loads trained parameters\n",
    "    with open(filename, 'rb') as file:\n",
    "        W, X, b = pickle.load(file)\n",
    "    return W, X, b"
   ]
  },
  {
   "cell_type": "code",
   "execution_count": 165,
   "id": "8b7fba79-20aa-4c26-8232-efb4178bcff6",
   "metadata": {},
   "outputs": [],
   "source": [
    "#W, X, b = load_param('trained_parameters/trained_param_2.dat') # comment this line if not using trained parameters"
   ]
  },
  {
   "cell_type": "code",
   "execution_count": 101,
   "id": "c37e202a-7a27-4329-9926-37ad1b405517",
   "metadata": {},
   "outputs": [],
   "source": [
    "def mean_normalization(Y):\n",
    "    # normalizes the Y matrix \n",
    "    mean = np.sum(Y, axis=1)/np.sum((Y!=0).astype('int'), axis=1).astype(matrix_dtype)\n",
    "    Y_norm = Y - mean.reshape((len(mean), 1))\n",
    "    return Y_norm, mean"
   ]
  },
  {
   "cell_type": "code",
   "execution_count": 170,
   "id": "581d00e9-d118-494d-b1b7-1bfae3156a12",
   "metadata": {},
   "outputs": [
    {
     "data": {
      "text/plain": [
       "array([[ 0.07906985, -3.9209301 , -3.9209301 , ..., -1.4209301 ,\n",
       "        -0.92093015,  1.0790699 ],\n",
       "       [-3.4318182 , -3.4318182 , -3.4318182 , ..., -1.4318182 ,\n",
       "        -3.4318182 , -3.4318182 ],\n",
       "       [ 0.7403846 , -3.2596154 , -3.2596154 , ..., -1.2596154 ,\n",
       "        -3.2596154 , -3.2596154 ],\n",
       "       ...,\n",
       "       [-3.5       , -3.5       , -3.5       , ..., -3.5       ,\n",
       "        -3.5       , -3.5       ],\n",
       "       [-3.5       , -3.5       , -3.5       , ..., -3.5       ,\n",
       "        -3.5       , -3.5       ],\n",
       "       [-4.        , -4.        , -4.        , ..., -4.        ,\n",
       "        -4.        , -4.        ]], dtype=float32)"
      ]
     },
     "execution_count": 170,
     "metadata": {},
     "output_type": "execute_result"
    }
   ],
   "source": [
    "Y_norm, mean_ratings = mean_normalization(Y)\n",
    "Y_norm"
   ]
  },
  {
   "cell_type": "markdown",
   "id": "bfe289a3-d6f8-414e-8762-2fde2357200d",
   "metadata": {},
   "source": [
    "The cost function for collaborative filtering - \n",
    "$J(w, b, x)=\\frac{1}{2} \\sum_{(i, j): r(i, j)=1}\\left(\\vec{w}^{(j)} \\cdot \\vec{x}^{(i)}+b^{(j)}-y^{(i, j)}\\right)^2+\\frac{\\lambda}{2} \\sum_{j=1}^{n_u} \\sum_{k=1}^n\\left(w_k^{(j)}\\right)^2+\\frac{\\lambda}{2} \\sum_{i=1}^{n_m} \\sum_{k=1}^n\\left(x_k^{(i)}\\right)^2$"
   ]
  },
  {
   "cell_type": "code",
   "execution_count": 102,
   "id": "05d50f78-f1ba-4ec7-be81-c481a736fdec",
   "metadata": {},
   "outputs": [],
   "source": [
    "def compute_cost(Y, R, W, X, b, lambda_):\n",
    "    # computes cost\n",
    "    J = 0.5*np.sum((((X@W.T + b) - Y)*R)**2)\n",
    "    reg_1 = (lambda_/2)*np.sum(X**2)\n",
    "    reg_2 = (lambda_/2)*np.sum(W**2)\n",
    "    cost = J+reg_1+reg_2\n",
    "    return cost"
   ]
  },
  {
   "cell_type": "code",
   "execution_count": 162,
   "id": "f0acd294-1155-4ab9-a52f-c31d97058972",
   "metadata": {},
   "outputs": [
    {
     "name": "stdout",
     "output_type": "stream",
     "text": [
      "Initial Cost: 1157087.9017758418\n"
     ]
    }
   ],
   "source": [
    "print(f\"Initial Cost: {compute_cost(Y_norm, R, W, X, b, 0.5)}\")"
   ]
  },
  {
   "cell_type": "markdown",
   "id": "687e3f27-a49e-4fbc-a214-7152fb1c2f65",
   "metadata": {},
   "source": [
    "The following function measures the mean difference between the predicted and the actual ratings. "
   ]
  },
  {
   "cell_type": "code",
   "execution_count": 130,
   "id": "90647d70-6163-4a5e-98da-0508df7b515e",
   "metadata": {},
   "outputs": [],
   "source": [
    "def measure_diff():\n",
    "    # returns the mean difference b/w ratings and predictions for all the ratings\n",
    "    predicted_ratings = ((X@W.T + b).T + mean_ratings).T*R\n",
    "    absolute_diff = np.fabs(predicted_ratings - Y)\n",
    "    mean_diff = np.sum(absolute_diff)/np.sum(R)\n",
    "    print(f\"Mean Difference: {mean_diff}\")"
   ]
  },
  {
   "cell_type": "markdown",
   "id": "1abbe9bc-8f8f-413d-a58b-9fe8166dc9d9",
   "metadata": {},
   "source": [
    "<b>Since we have not trained the model yet, the mean difference is very high. Basically, this is the difference, on average, between any particular predicted and actual rating.</b>\n",
    "\n",
    "<b>Right now, the predicted and actual ratings differ by ~4.7, on average.</b>"
   ]
  },
  {
   "cell_type": "code",
   "execution_count": 163,
   "id": "d59368cd-0470-42ae-a983-5ce427410a58",
   "metadata": {},
   "outputs": [
    {
     "name": "stdout",
     "output_type": "stream",
     "text": [
      "Mean Difference: 4.696184679804067\n"
     ]
    }
   ],
   "source": [
    "measure_diff()"
   ]
  },
  {
   "cell_type": "markdown",
   "id": "826d8fe5-ab4e-4784-b3e4-439d6d4fed35",
   "metadata": {},
   "source": [
    "<b>Update rules - </b> <br>\n",
    "$\\begin{aligned} & w_k^{(j)}:=w_k^{(j)}-\\frac{\\partial}{\\partial w_k^{(j)}} J(w, b, x) \\\\ & b^{(j)}:=b^{(j)}-\\frac{\\partial}{\\partial b^{(j)}} J(w, b, x) \\\\ & x_k^{(i)}:=x_k^{(i)}-\\frac{\\partial}{\\partial x_k^{(i)}} J(w, b, x)\\end{aligned}$\n",
    "\n",
    "<b>Gradients - </b> <br>\n",
    "$\\begin{aligned} & \\frac{\\partial}{\\partial w_k^{(j)}} J(w, b, x)=\\sum_{(i, j): r(i, j)=1}\\left(\\vec{w}^{(j)} \\cdot \\vec{x}^{(i)}+b^{(j)}-y^{(i, j)}\\right) x_k^{(i)}+\\lambda w(j) \\\\ & \\frac{\\partial}{\\partial b^{(j)}} J(w, b, x)=\\sum_{(i, j): r(i, j)=1}\\left(\\vec{w}^{(j)} \\cdot \\vec{x}^{(i)}+b^{(j)}-y^{(i, j)}\\right) \\\\ & \\frac{\\partial}{\\partial x_k^{(i)}} J(w, b, x)=\\sum_{(i, j): r(i, j)=1}\\left(\\vec{w}^{(j)} \\cdot \\vec{x}^{(i)}+b^{(j)}-y^{(i, j)}\\right) w_k^{(j)}+\\lambda x_k^{(i)}\\end{aligned}$"
   ]
  },
  {
   "cell_type": "code",
   "execution_count": 104,
   "id": "7ca3b194-b03a-46ed-9206-59945396163b",
   "metadata": {},
   "outputs": [],
   "source": [
    "def compute_gradient(Y, R, W, X, b, lambda_):\n",
    "    # computes gradients for all the parameters. (Vectorized implementation)\n",
    "    # Returns matrices dj_dW, dj_db, dj_dX, which have the same shape as W, b, and X, respectively.\n",
    "    n_m, n_u = Y.shape\n",
    "    n = X.shape[1]\n",
    "    com_term = (((X@W.T + b) - Y)*R).astype(matrix_dtype)\n",
    "    com_term_broad = (com_term*np.ones((n, n_m, n_u))).astype(matrix_dtype)\n",
    "    X_broad = ((X*np.ones((n_u, n_m, n))).swapaxes(0, 2)).astype(matrix_dtype)\n",
    "    W_broad = ((W.T*np.ones((n_m, n, n_u))).swapaxes(0, 1)).astype(matrix_dtype)\n",
    "    \n",
    "    dj_dW = (np.sum(com_term_broad*X_broad, axis=1).T + (lambda_*W))\n",
    "    dj_db = np.sum(com_term, axis=0)\n",
    "    dj_dX = np.sum(com_term_broad*W_broad, axis=2).T + (lambda_*X)\n",
    "    return dj_dW, dj_db, dj_dX"
   ]
  },
  {
   "cell_type": "code",
   "execution_count": 105,
   "id": "2d95633d-5100-4fc9-a5eb-545179cb63d2",
   "metadata": {},
   "outputs": [],
   "source": [
    "def gradient_descent(num_iters, alpha, lambda_, hyperparam, decay_rate, Y, R, W, X, b):\n",
    "    # Performs gradient descent (with Adam)\n",
    "    j_hist = []\n",
    "    V_W = np.zeros(W.shape, dtype=matrix_dtype)\n",
    "    V_b = np.zeros(b.shape, dtype=matrix_dtype)\n",
    "    V_X = np.zeros(X.shape, dtype=matrix_dtype)\n",
    "    S_W = np.zeros(W.shape, dtype=matrix_dtype)\n",
    "    S_b = np.zeros(b.shape, dtype=matrix_dtype)\n",
    "    S_X = np.zeros(X.shape, dtype=matrix_dtype)\n",
    "    j_hist.append(compute_cost(Y, R, W, X, b, lambda_))\n",
    "    print(f\"J at iter 0: {j_hist[0]}\")\n",
    "    for i in range(1, num_iters+1):\n",
    "        alpha_ = alpha/(1+(i*decay_rate))\n",
    "        dj_dW, dj_db, dj_dX = compute_gradient(Y, R, W, X, b, lambda_)\n",
    "        beta1, beta2, E = hyperparam\n",
    "        V_W, V_b, V_X = beta1*V_W + (1-beta1)*dj_dW, beta1*V_b + (1-beta1)*dj_db, beta1*V_X + (1-beta1)*dj_dX\n",
    "        S_W, S_b, S_X = beta2*S_W + (1-beta2)*(dj_dW**2), beta2*S_b + (1-beta2)*(dj_db**2), beta2*S_X + (1-beta2)*(dj_dX**2)\n",
    "        V_W_c, V_b_c, V_X_c = V_W/(1-beta1**i), V_b/(1-beta1**i), V_X/(1-beta1**i)\n",
    "        S_W_c, S_b_c, S_X_c = S_W/(1-beta2**i), S_b/(1-beta2**i), S_X/(1-beta2**i)\n",
    "        W = W - ((alpha_/(np.sqrt(S_W_c)+E))*V_W_c)\n",
    "        b = b - ((alpha_/(np.sqrt(S_b_c)+E))*V_b_c)\n",
    "        X = X - ((alpha_/(np.sqrt(S_X_c)+E))*V_X_c)\n",
    "        \n",
    "        j = compute_cost(Y, R, W, X, b, lambda_)\n",
    "        j_hist.append(j)\n",
    "        if i% math.ceil(num_iters/10) == 0 or i == (num_iters-1):\n",
    "            print(f\"J at iter {i}: {j}\")\n",
    "    return W, b, X, j_hist"
   ]
  },
  {
   "cell_type": "markdown",
   "id": "bc88b16e-838a-4932-9b72-f7082c3e64c7",
   "metadata": {},
   "source": [
    "There are 207290 parameters in this project and all have been trained using Adaptive Moment Estimation (Adam) in a vectorized manner with regularization."
   ]
  },
  {
   "cell_type": "code",
   "execution_count": 17,
   "id": "efe35538-0828-444f-ae2a-435ac425ed7b",
   "metadata": {},
   "outputs": [],
   "source": [
    "def fit(num_iters, alpha, lambda_, hyperparam, decay_rate=0, Y=Y_norm, R=R, W=W, X=X, b=b):\n",
    "    start_time = time.time()\n",
    "    W, b, X, j_hist = gradient_descent(num_iters, alpha, lambda_, hyperparam, decay_rate, Y, R, W, X, b)\n",
    "    end_time = time.time()\n",
    "    print(f\"Training time: {end_time-start_time}\")\n",
    "    return W, b, X, j_hist"
   ]
  },
  {
   "cell_type": "code",
   "execution_count": 18,
   "id": "fdd54bd5-9310-4191-a842-951a3b6bdce7",
   "metadata": {},
   "outputs": [
    {
     "name": "stdout",
     "output_type": "stream",
     "text": [
      "J at iter 0: 1108811.5032036921\n",
      "J at iter 30: 82034.78119478197\n",
      "J at iter 60: 35099.49443182199\n",
      "J at iter 90: 18891.25707960209\n",
      "J at iter 120: 12111.371702438431\n",
      "J at iter 150: 9388.473693786415\n",
      "J at iter 180: 8382.59582770039\n",
      "J at iter 210: 7998.402324621784\n",
      "J at iter 240: 7828.717712058288\n",
      "J at iter 270: 7741.140992510787\n",
      "J at iter 299: 7686.1324752342425\n",
      "J at iter 300: 7684.604663264911\n",
      "Training time: 791.2158029079437\n"
     ]
    }
   ],
   "source": [
    "W, b, X, j_hist = fit(300, 0.5, 0.5, (0.96, 0.999, 1e-08))"
   ]
  },
  {
   "cell_type": "code",
   "execution_count": 19,
   "id": "0f6f1f1a-d1b5-4dd5-823b-77332db37083",
   "metadata": {},
   "outputs": [
    {
     "data": {
      "text/plain": [
       "[<matplotlib.lines.Line2D at 0x14bb24a00>]"
      ]
     },
     "execution_count": 19,
     "metadata": {},
     "output_type": "execute_result"
    },
    {
     "data": {
      "image/png": "[encoded data removed]",
      "text/plain": [
       "<Figure size 640x480 with 1 Axes>"
      ]
     },
     "metadata": {},
     "output_type": "display_data"
    }
   ],
   "source": [
    "plt.plot(j_hist)"
   ]
  },
  {
   "cell_type": "markdown",
   "id": "8333ef81-25db-4ba8-9e6f-a8e6aea7330e",
   "metadata": {},
   "source": [
    "### Predict movies for a given user"
   ]
  },
  {
   "cell_type": "code",
   "execution_count": 106,
   "id": "5617d64f-57e3-468f-aecf-dba35d49d7cb",
   "metadata": {},
   "outputs": [],
   "source": [
    "def user_prediction(user_id, recommend_movies=5):\n",
    "    # First prints 10 highest rated movies by the user (Indicative of user's taste).\n",
    "    # Then returns movies that the user is likely to give highest ratings to.\n",
    "    # The number of movies recommended is determined by the 'recommend_movies' parameter.\n",
    "    user_id -= 1\n",
    "    movies_rated = np.sum(R[:, user_id])\n",
    "    print(f\"User {user_id+1} has rated {movies_rated} movies\\n\")\n",
    "    most_liked_idx = np.argpartition(Y[:, user_id], -10)[-10:]\n",
    "    most_liked_idx = most_liked_idx[np.argsort(Y[:, user_id][most_liked_idx])][::-1]\n",
    "    \n",
    "    most_liked_movie_ids = movie_idx[[np.where(movie_idx[:, 1] == idx)[0][0] for idx in most_liked_idx]][:, 0]\n",
    "    \n",
    "    most_liked_movies = movies[movies['movieId'].isin(most_liked_movie_ids)].copy() # extract the most liked movies (not Ordered)\n",
    "    most_liked_movies['movieId'] = pd.Categorical(most_liked_movies['movieId'], categories=most_liked_movie_ids, ordered=True)\n",
    "    most_liked_movies = most_liked_movies.sort_values('movieId')\n",
    "    \n",
    "    print(f\"******** User {user_id+1} liked the following movies - ********\\n\")\n",
    "    print(most_liked_movies.to_string(index=False) + \"\\n\")\n",
    "    \n",
    "    user_ratings_vector = (np.sum(W[user_id]*X, axis=1) + b[0][user_id] + mean_ratings)*(R[:, user_id] == 0).astype('int')\n",
    "    # in the user_ratings_vector, the movies already rated by the user are rated 0\n",
    "    \n",
    "    rec_idx = np.argpartition(user_ratings_vector, -recommend_movies)[-recommend_movies:]\n",
    "    rec_idx = rec_idx[np.argsort(user_ratings_vector[rec_idx])][::-1]\n",
    "    \n",
    "    rec_movie_ids = movie_idx[[np.where(movie_idx[:, 1] == idx)[0][0] for idx in rec_idx]][:, 0]\n",
    "    \n",
    "    rec_movies = movies[movies['movieId'].isin(rec_movie_ids)].copy()\n",
    "    rec_movies['movieId'] = pd.Categorical(rec_movies['movieId'], categories=rec_movie_ids, ordered=True)\n",
    "    rec_movies = rec_movies.sort_values('movieId')\n",
    "    \n",
    "    print(f\"******** Recommendations for User {user_id+1} - ********\\n\")\n",
    "    print(rec_movies.to_string(index=False))\n",
    "    \n",
    "    "
   ]
  },
  {
   "cell_type": "markdown",
   "id": "b8868390-aecf-402a-855a-6b20cfbd872a",
   "metadata": {},
   "source": [
    "<b>We can see that user 30 has a Sci-fi/Action taste in movies. The recommendations also seem to reflect (mostly) a similar genre.</b>"
   ]
  },
  {
   "cell_type": "code",
   "execution_count": 206,
   "id": "aab3be53-7310-4214-b082-3b91865efdb2",
   "metadata": {},
   "outputs": [
    {
     "name": "stdout",
     "output_type": "stream",
     "text": [
      "User 30 has rated 34 movies\n",
      "\n",
      "******** User 30 liked the following movies - ********\n",
      "\n",
      "movieId                                                                          title\n",
      "   1291                                      Indiana Jones and the Last Crusade (1989)\n",
      "   1198 Raiders of the Lost Ark (Indiana Jones and the Raiders of the Lost Ark) (1981)\n",
      "   1196                          Star Wars: Episode V - The Empire Strikes Back (1980)\n",
      "  68358                                                               Star Trek (2009)\n",
      "  79132                                                               Inception (2010)\n",
      "    260                                      Star Wars: Episode IV - A New Hope (1977)\n",
      "  93510                                                          21 Jump Street (2012)\n",
      "    318                                               Shawshank Redemption, The (1994)\n",
      " 111759                                                        Edge of Tomorrow (2014)\n",
      "  58559                                                        Dark Knight, The (2008)\n",
      "\n",
      "******** Recommendations for User 30 - ********\n",
      "\n",
      "movieId                                                   title\n",
      "    800                                        Lone Star (1996)\n",
      "  61132                                   Tropic Thunder (2008)\n",
      "  55721                     Elite Squad (Tropa de Elite) (2007)\n",
      " 124851                                         Delirium (2014)\n",
      "   2340                                   Meet Joe Black (1998)\n",
      " 113829                                  One I Love, The (2014)\n",
      " 114265                                          Laggies (2014)\n",
      "   6835                              Alien Contamination (1980)\n",
      "   5746                         Galaxy of Terror (Quest) (1981)\n",
      "   7122                                   King of Hearts (1966)\n",
      "   5468                        20 Million Miles to Earth (1957)\n",
      " 109687                                   Particle Fever (2013)\n",
      " 112512                             Colourful (Karafuru) (2010)\n",
      "   3086                                 Babes in Toyland (1934)\n",
      "  27523             My Sassy Girl (Yeopgijeogin geunyeo) (2001)\n",
      "   6021 American Friend, The (Amerikanische Freund, Der) (1977)\n",
      "  40491 Match Factory Girl, The (Tulitikkutehtaan tyttö) (1990)\n",
      "  42556                               7 Faces of Dr. Lao (1964)\n",
      "   1140       Entertaining Angels: The Dorothy Day Story (1996)\n",
      "    876          Supercop 2 (Project S) (Chao ji ji hua) (1993)\n"
     ]
    }
   ],
   "source": [
    "user_prediction(30, 20)"
   ]
  },
  {
   "cell_type": "markdown",
   "id": "1f9bcd09-e8b9-4f50-aa82-9b3de0495449",
   "metadata": {},
   "source": [
    "<b>After training the parameters, the mean difference has come down by a lot!</b>\n",
    "\n",
    "<b>The actual and predicted ratings only differ by 0.21, on average.</b>"
   ]
  },
  {
   "cell_type": "code",
   "execution_count": 171,
   "id": "ef485dd9-719e-428e-8406-c6fa243c0fa2",
   "metadata": {},
   "outputs": [
    {
     "name": "stdout",
     "output_type": "stream",
     "text": [
      "Mean Difference: 0.21640953584648975\n"
     ]
    }
   ],
   "source": [
    "measure_diff()"
   ]
  },
  {
   "cell_type": "code",
   "execution_count": 134,
   "id": "373849b1-2641-4fab-a844-ceedd6926f04",
   "metadata": {},
   "outputs": [],
   "source": [
    "def measure_user_diff(user_id):\n",
    "    # returns the mean difference b/w user ratings and predictions\n",
    "    user_id -= 1\n",
    "    actual_ratings = Y[:, user_id]\n",
    "    predicted_ratings = (np.sum(W[user_id]*X, axis=1) + b[0][user_id] + mean_ratings)*R[:, user_id]\n",
    "    mean_difference = np.sum(np.fabs(actual_ratings - predicted_ratings))/np.sum(R[:, user_id])\n",
    "    print(f\"Mean Difference for User {user_id+1}: {mean_difference}\")"
   ]
  },
  {
   "cell_type": "markdown",
   "id": "ee0a0ec3-686e-41bd-872c-0fca6f4ba26c",
   "metadata": {},
   "source": [
    "<b>We can also get the mean difference for a particular user.</b>"
   ]
  },
  {
   "cell_type": "code",
   "execution_count": 172,
   "id": "c5b93f82-74c5-403f-9093-fc815946bf52",
   "metadata": {},
   "outputs": [
    {
     "name": "stdout",
     "output_type": "stream",
     "text": [
      "Mean Difference for User 30: 0.1855604648590088\n"
     ]
    }
   ],
   "source": [
    "measure_user_diff(30)"
   ]
  },
  {
   "cell_type": "markdown",
   "id": "4d4a8d71-a708-44d5-bbd1-5a4702bfd875",
   "metadata": {},
   "source": [
    "### Predict how a user will rate a particular movie"
   ]
  },
  {
   "cell_type": "code",
   "execution_count": 173,
   "id": "b7ce9ac4-90ee-47fa-9052-e1467ade4942",
   "metadata": {},
   "outputs": [],
   "source": [
    "def predict(user_id, movie_id):\n",
    "    # predicts user_id's rating for movie_id\n",
    "    # this movie_id is the actual movie id and not the matrix index\n",
    "    user_id -= 1\n",
    "    print(movies[movies['movieId'] == movie_id].to_string(index=False) + \"\\n\")\n",
    "    if movie_id in movie_idx_dict:\n",
    "        movie_index = movie_idx_dict[movie_id]\n",
    "        prediction = np.dot(W[user_id], X[movie_index]) + b[0][user_id] + mean_ratings[movie_index]\n",
    "        actual = Y[movie_index][user_id]\n",
    "        if actual == 0:\n",
    "            actual = \"Not Rated\"\n",
    "        print(f\"Predicted rating: {prediction} | Actual Rating: {actual}\")\n",
    "    else:\n",
    "        print(\"Can not predict. No ratings for this movie available\")\n",
    "        "
   ]
  },
  {
   "cell_type": "markdown",
   "id": "46358673-384a-4b6d-9dac-446cf633b398",
   "metadata": {},
   "source": [
    "<b>We can see that user 30 has rated the movie <i>'Interstellar'</i> as 5.0. The model predicts ~4.9 for the same, which is a very good prediction.</b>"
   ]
  },
  {
   "cell_type": "code",
   "execution_count": 95,
   "id": "5cd9b36a-6d2e-4f29-a42e-c43e6e02dc11",
   "metadata": {},
   "outputs": [
    {
     "name": "stdout",
     "output_type": "stream",
     "text": [
      " movieId               title\n",
      "  109487 Interstellar (2014)\n",
      "\n",
      "Predicted rating: 4.918183326721191 | Actual Rating: 5.0\n"
     ]
    }
   ],
   "source": [
    "predict(30, 109487)"
   ]
  },
  {
   "cell_type": "markdown",
   "id": "15995e4f-98e8-4f79-9c69-e0b68286f8c6",
   "metadata": {},
   "source": [
    "<b>User 30 has not rated <i>'The Martian'</i>. Since the user likes sci-fi movies (reflected by their highest rated movies), we can expect that user 30 will give a high rating to 'The Martian' as it is a sci-fi movie.</b>\n",
    "\n",
    "<b>The model predicts ~4.8, which matches our intuition.</b>"
   ]
  },
  {
   "cell_type": "code",
   "execution_count": 174,
   "id": "c00d2838-d649-4385-b041-8d0be420ef4c",
   "metadata": {},
   "outputs": [
    {
     "name": "stdout",
     "output_type": "stream",
     "text": [
      " movieId              title\n",
      "  134130 The Martian (2015)\n",
      "\n",
      "Predicted rating: 4.787964820861816 | Actual Rating: Not Rated\n"
     ]
    }
   ],
   "source": [
    "predict(30, 134130)"
   ]
  },
  {
   "cell_type": "markdown",
   "id": "5fdc1cb6-516c-4999-a71f-f89736ccb17f",
   "metadata": {},
   "source": [
    "<b>User 30 doesn't really seem to enjoy romance movies, so we would expect that they would give a low rating to a romance movie.</b>\n",
    "\n",
    "<b>Again, the prediction for <i>'Never Been Kissed'</i> matches our intuition.</b>"
   ]
  },
  {
   "cell_type": "code",
   "execution_count": 84,
   "id": "9262e598-0883-4404-a1f7-4c5e5fe176c9",
   "metadata": {},
   "outputs": [
    {
     "name": "stdout",
     "output_type": "stream",
     "text": [
      " movieId                    title\n",
      "    2581 Never Been Kissed (1999)\n",
      "\n",
      "Predicted rating: 3.148394823074341 | Actual Rating: Not Rated\n"
     ]
    }
   ],
   "source": [
    "predict(30, 2581)"
   ]
  },
  {
   "cell_type": "markdown",
   "id": "be70bba4-3491-47e5-908b-b2bc042cc3ac",
   "metadata": {},
   "source": [
    "### Predict the difference between two movies"
   ]
  },
  {
   "cell_type": "markdown",
   "id": "f1bcc836-21a6-4608-bb64-8ad8616d9291",
   "metadata": {},
   "source": [
    "The following function gives a measure of difference between two movies.\n",
    "The higher this number, the more different the two movies."
   ]
  },
  {
   "cell_type": "code",
   "execution_count": 183,
   "id": "a97ffd64-fbbe-4b5a-92de-d5dd36636398",
   "metadata": {},
   "outputs": [],
   "source": [
    "def movie_difference(movie_1_id, movie_2_id):\n",
    "    # This function gives a measure of how different two movies are.\n",
    "    # The higher this number, the more different the movies.\n",
    "    movie_1_name = movies[movies['movieId'] == movie_1_id]\n",
    "    print(f\"Movie 1: {movie_1_name.values.tolist()[0]}\")\n",
    "    movie_2_name = movies[movies['movieId'] == movie_2_id]\n",
    "    print(f\"Movie 2: {movie_2_name.values.tolist()[0]}\")\n",
    "\n",
    "    idx_1, idx_2 = movie_idx_dict[movie_1_id], movie_idx_dict[movie_2_id]\n",
    "\n",
    "    diff = np.sum((X[idx_1] - X[idx_2])**2)\n",
    "    print(f\"Measure of difference: {diff}\")"
   ]
  },
  {
   "cell_type": "markdown",
   "id": "fa2e9c46-311c-4385-a365-803c8ee1da3d",
   "metadata": {},
   "source": [
    "<b><i>'Interstellar'</i> and <i>'Pride & Prejudice'</i> are very different movies.</b>\n",
    "\n",
    "<b> Therefore, the model returns a high (~6.3) measure of difference. </b>"
   ]
  },
  {
   "cell_type": "code",
   "execution_count": 190,
   "id": "ceb2fa7d-c12a-42f4-92be-da8af5e9acb1",
   "metadata": {},
   "outputs": [
    {
     "name": "stdout",
     "output_type": "stream",
     "text": [
      "Movie 1: [109487, 'Interstellar (2014)']\n",
      "Movie 2: [40629, 'Pride & Prejudice (2005)']\n",
      "Measure of difference: 6.304194927215576\n"
     ]
    }
   ],
   "source": [
    "movie_difference(109487, 40629)"
   ]
  },
  {
   "cell_type": "markdown",
   "id": "5005edfa-b71b-4d8c-9cd2-6be9e53b13e4",
   "metadata": {},
   "source": [
    "<b>Again, <i>'Edge of Tomorrow'</i> and <i>'Titanic'</i> are very different movies.</b>\n",
    "\n",
    "<b> Therefore, the model returns a high (~5.2) measure of difference. </b>"
   ]
  },
  {
   "cell_type": "code",
   "execution_count": 185,
   "id": "f5fc6c72-4151-4d7b-b85f-f0f9239e402f",
   "metadata": {},
   "outputs": [
    {
     "name": "stdout",
     "output_type": "stream",
     "text": [
      "Movie 1: [111759, 'Edge of Tomorrow (2014)']\n",
      "Movie 2: [1721, 'Titanic (1997)']\n",
      "Measure of difference: 5.162797451019287\n"
     ]
    }
   ],
   "source": [
    "movie_difference(111759, 1721)"
   ]
  },
  {
   "cell_type": "markdown",
   "id": "43796a1b-fb60-4e84-a476-a4b02f43c9ab",
   "metadata": {},
   "source": [
    "<b><i>'The Martian'</i> and <i>'Interstellar'</i> are pretty similar.</b>\n",
    "\n",
    "<b> Therefore, the model returns a low (~1.9) measure of difference indicating that the movies are similar. </b>"
   ]
  },
  {
   "cell_type": "code",
   "execution_count": 186,
   "id": "ec981b29-ad1d-415f-98d1-82bd968bfd79",
   "metadata": {},
   "outputs": [
    {
     "name": "stdout",
     "output_type": "stream",
     "text": [
      "Movie 1: [134130, 'The Martian (2015)']\n",
      "Movie 2: [109487, 'Interstellar (2014)']\n",
      "Measure of difference: 1.8670133352279663\n"
     ]
    }
   ],
   "source": [
    "movie_difference(134130, 109487)"
   ]
  },
  {
   "cell_type": "markdown",
   "id": "de6416d0-c29b-4b69-b6f2-0d6c0219c477",
   "metadata": {},
   "source": [
    "<b><i>'The Amazing Spider-Man'</i> and <i>'The Amazing Spider-Man 2'</i> are very similar movies. They are part of the same series.</b>\n",
    "\n",
    "<b> Therefore, the model returns a low (~2.5) measure of difference. Ideally, the value should be lower as the movies are very similar, but we should keep in mind that the model has no information about the movies except ratings. We can not expect perfect behaviour in every case. </b>"
   ]
  },
  {
   "cell_type": "code",
   "execution_count": 187,
   "id": "d5caca5b-b012-4801-83a5-02abe893e19c",
   "metadata": {},
   "outputs": [
    {
     "name": "stdout",
     "output_type": "stream",
     "text": [
      "Movie 1: [95510, 'Amazing Spider-Man, The (2012)']\n",
      "Movie 2: [110553, 'The Amazing Spider-Man 2 (2014)']\n",
      "Measure of difference: 2.7574126720428467\n"
     ]
    }
   ],
   "source": [
    "movie_difference(95510, 110553)"
   ]
  },
  {
   "cell_type": "markdown",
   "id": "a69a5d24-6f61-4b3c-8060-4bd5e1f6bead",
   "metadata": {},
   "source": [
    "<b>Again, <i>'The Dark Knight'</i> and <i>'The Dark Knight Rises'</i> are very similar movies. They are part of the same series.</b>\n",
    "\n",
    "<b> Therefore, the model returns a very low (~0.6) measure of difference. The result is better than the previous case.</b>"
   ]
  },
  {
   "cell_type": "code",
   "execution_count": 188,
   "id": "61d6a7d3-a2e4-4eda-922f-d9111886b2fd",
   "metadata": {},
   "outputs": [
    {
     "name": "stdout",
     "output_type": "stream",
     "text": [
      "Movie 1: [58559, 'Dark Knight, The (2008)']\n",
      "Movie 2: [91529, 'Dark Knight Rises, The (2012)']\n",
      "Measure of difference: 0.5738054513931274\n"
     ]
    }
   ],
   "source": [
    "movie_difference(58559, 91529)"
   ]
  },
  {
   "cell_type": "markdown",
   "id": "bdd72b50-75e3-4102-a044-458065b98c60",
   "metadata": {},
   "source": [
    "<b><i>'The Godfather'</i> and <i>'The Godfather: Part II'</i> are also sequels.</b>\n",
    "\n",
    "<b> Therefore, the model returns a very low (only ~0.2) measure of difference.</b>"
   ]
  },
  {
   "cell_type": "code",
   "execution_count": 189,
   "id": "aa05e17f-624b-477e-a59a-a65d58827dbe",
   "metadata": {},
   "outputs": [
    {
     "name": "stdout",
     "output_type": "stream",
     "text": [
      "Movie 1: [858, 'Godfather, The (1972)']\n",
      "Movie 2: [1221, 'Godfather: Part II, The (1974)']\n",
      "Measure of difference: 0.2098020315170288\n"
     ]
    }
   ],
   "source": [
    "movie_difference(858, 1221)"
   ]
  },
  {
   "cell_type": "markdown",
   "id": "6fe24998-d90a-4cb4-801e-14873934a6df",
   "metadata": {},
   "source": [
    "<b><i>'Iron Man'</i> and <i>'Batman Begins'</i> are similar. They are both superhero movies.</b>\n",
    "\n",
    "<b> Therefore, the model returns a low (~1.0) measure of difference.</b>"
   ]
  },
  {
   "cell_type": "code",
   "execution_count": 194,
   "id": "8eed1a1e-94b5-4fb8-93a6-8f71c0592c7d",
   "metadata": {},
   "outputs": [
    {
     "name": "stdout",
     "output_type": "stream",
     "text": [
      "Movie 1: [59315, 'Iron Man (2008)']\n",
      "Movie 2: [33794, 'Batman Begins (2005)']\n",
      "Measure of difference: 1.0270766019821167\n"
     ]
    }
   ],
   "source": [
    "movie_difference(59315, 33794)"
   ]
  },
  {
   "cell_type": "markdown",
   "id": "b4a6fb4e-c5b2-4580-a1e3-3796dc4cc782",
   "metadata": {},
   "source": [
    "### Predict the difference between two users\n",
    "Just as we did for movies, we can also get a measure of difference for two users. The higher this number, the more difference the two users."
   ]
  },
  {
   "cell_type": "code",
   "execution_count": 199,
   "id": "24592ca6-2c0d-4c96-86e7-17640f585934",
   "metadata": {},
   "outputs": [],
   "source": [
    "def user_difference(user1, user2):\n",
    "    user1 -= 1\n",
    "    user2 -= 1\n",
    "    diff = np.sum((W[user1]-W[user2])**2)\n",
    "    print(f\"Measure of difference: {diff}\")"
   ]
  },
  {
   "cell_type": "markdown",
   "id": "3651cf66-9185-48cb-8846-9d43663b7864",
   "metadata": {},
   "source": [
    "<b> Users 30 and 69 share a somewhat similar taste. They both like sci-fi/action movies (can be checked using the 'user_prediction' function). </b>"
   ]
  },
  {
   "cell_type": "code",
   "execution_count": 207,
   "id": "7d5c516e-a2fc-4eae-b5c4-50e0ba34e06f",
   "metadata": {},
   "outputs": [
    {
     "name": "stdout",
     "output_type": "stream",
     "text": [
      "Measure of difference: 4.820165634155273\n"
     ]
    }
   ],
   "source": [
    "user_difference(30, 69)"
   ]
  },
  {
   "cell_type": "markdown",
   "id": "95508df5-0866-469d-8884-bc6cb1bb298d",
   "metadata": {},
   "source": [
    "<b>Users 30 and 12 have dissimilar preferences. User 12 likes romance/drama movies whereas 30 prefers sci-fi/action ones.</b>\n",
    "\n",
    "<b>As expected, the measure of difference is higher than the previous case when the user shared similar tastes.</b>"
   ]
  },
  {
   "cell_type": "code",
   "execution_count": 208,
   "id": "0fe069a2-ea46-4118-b20b-765c55d2f813",
   "metadata": {},
   "outputs": [
    {
     "name": "stdout",
     "output_type": "stream",
     "text": [
      "Measure of difference: 7.214715003967285\n"
     ]
    }
   ],
   "source": [
    "user_difference(30, 12)"
   ]
  },
  {
   "cell_type": "markdown",
   "id": "f1cac4d0-be90-4d29-b970-eab4d3d5199c",
   "metadata": {},
   "source": [
    "### Predict movies similar to a given movie"
   ]
  },
  {
   "cell_type": "code",
   "execution_count": 196,
   "id": "d5e08c57-7308-4e76-b342-b7ad9d4155bf",
   "metadata": {},
   "outputs": [],
   "source": [
    "def similar_movies(movie_id, num_rec=10):\n",
    "    #Prints movies similar to a given movie. Returns 10 movies by default.\n",
    "    movie_name = movies[movies['movieId'] == movie_id]\n",
    "    print(f\"Movie: {movie_name.values.tolist()[0]} \\n\")\n",
    "    movie_index = movie_idx_dict[movie_id]\n",
    "\n",
    "    diff_vector = np.sum((X - X[movie_index])**2, axis=1)\n",
    "    similar_idx = np.argpartition(diff_vector, (num_rec+1))[:(num_rec+1)]\n",
    "    similar_idx = similar_idx[np.argsort(diff_vector[similar_idx])][1:]\n",
    "\n",
    "    similar_movie_ids = movie_idx[[np.where(movie_idx[:, 1] == idx)[0][0] for idx in similar_idx]][:, 0]\n",
    "    \n",
    "    similar_movies = movies[movies['movieId'].isin(similar_movie_ids)].copy() \n",
    "    similar_movies['movieId'] = pd.Categorical(similar_movies['movieId'], categories=similar_movie_ids, ordered=True)\n",
    "    similar_movies = similar_movies.sort_values('movieId')\n",
    "    print(similar_movies.to_string(index=False))"
   ]
  },
  {
   "cell_type": "code",
   "execution_count": 35,
   "id": "1e9b0f2f-a22a-4687-b5ad-e63dd3112a1c",
   "metadata": {},
   "outputs": [
    {
     "name": "stdout",
     "output_type": "stream",
     "text": [
      "Movie: [858, 'Godfather, The (1972)'] \n",
      "\n",
      "movieId                                 title\n",
      "   1221        Godfather: Part II, The (1974)\n",
      "   5993                            Max (2002)\n",
      "   4103              Empire of the Sun (1987)\n",
      "   1635                 Ice Storm, The (1997)\n",
      "   1213                     Goodfellas (1990)\n",
      "   2474            Color of Money, The (1986)\n",
      "    482                    Killing Zoe (1994)\n",
      "   2163 Attack of the Killer Tomatoes! (1978)\n",
      "   1202                   Withnail & I (1987)\n",
      "   4229                Say It Isn't So (2001)\n"
     ]
    }
   ],
   "source": [
    "similar_movies(858)"
   ]
  },
  {
   "cell_type": "code",
   "execution_count": 36,
   "id": "218211a9-5dbb-47a2-ba1a-96891ca748d1",
   "metadata": {},
   "outputs": [
    {
     "name": "stdout",
     "output_type": "stream",
     "text": [
      "Movie: [1196, 'Star Wars: Episode V - The Empire Strikes Back (1980)'] \n",
      "\n",
      "movieId                                             title\n",
      "    260         Star Wars: Episode IV - A New Hope (1977)\n",
      "   1210 Star Wars: Episode VI - Return of the Jedi (1983)\n",
      "   1291         Indiana Jones and the Last Crusade (1989)\n",
      "  65642            Timecrimes (Cronocrímenes, Los) (2007)\n",
      " 170355                             Mulholland Dr. (1999)\n",
      "   4142                     Left Behind: The Movie (2000)\n",
      "   5202                       Mon oncle d'Amérique (1980)\n",
      "   1858              Mr. Nice Guy (Yat goh ho yan) (1997)\n",
      "   1086                          Dial M for Murder (1954)\n",
      "  52885                         Paprika (Papurika) (2006)\n"
     ]
    }
   ],
   "source": [
    "similar_movies(1196)"
   ]
  },
  {
   "cell_type": "code",
   "execution_count": 57,
   "id": "8df8a1e6-2a04-4470-9368-39ac11067a75",
   "metadata": {},
   "outputs": [
    {
     "name": "stdout",
     "output_type": "stream",
     "text": [
      "Movie: [89745, 'Avengers, The (2012)'] \n",
      "\n",
      "movieId                              title\n",
      " 112852     Guardians of the Galaxy (2014)\n",
      "  59315                    Iron Man (2008)\n",
      "  91529      Dark Knight Rises, The (2012)\n",
      "   2316             Practical Magic (1998)\n",
      "  58559            Dark Knight, The (2008)\n",
      "  66203 He's Just Not That Into You (2009)\n",
      "  33794               Batman Begins (2005)\n",
      " 111362  X-Men: Days of Future Past (2014)\n",
      "  72641            Blind Side, The  (2009)\n",
      "   8972           National Treasure (2004)\n"
     ]
    }
   ],
   "source": [
    "similar_movies(89745)"
   ]
  },
  {
   "cell_type": "code",
   "execution_count": 66,
   "id": "e92e5482-19a5-46d2-a355-0b8cf733b809",
   "metadata": {},
   "outputs": [
    {
     "name": "stdout",
     "output_type": "stream",
     "text": [
      "Movie: [33794, 'Batman Begins (2005)'] \n",
      "\n",
      "movieId                         title\n",
      "  58559       Dark Knight, The (2008)\n",
      "  91529 Dark Knight Rises, The (2012)\n",
      "   2458    Armed and Dangerous (1986)\n",
      "   4719          Osmosis Jones (2001)\n",
      "  78893    Last Airbender, The (2010)\n",
      " 152081               Zootopia (2016)\n",
      "   5075            Waydowntown (2000)\n",
      "   1855    Krippendorf's Tribe (1998)\n",
      "   3235 Where the Buffalo Roam (1980)\n",
      "   3793                  X-Men (2000)\n"
     ]
    }
   ],
   "source": [
    "similar_movies(33794)"
   ]
  },
  {
   "cell_type": "code",
   "execution_count": 39,
   "id": "c24da77b-a57c-4b86-8ad9-6d9e4b0f6de1",
   "metadata": {},
   "outputs": [
    {
     "name": "stdout",
     "output_type": "stream",
     "text": [
      "Movie: [91542, 'Sherlock Holmes: A Game of Shadows (2011)'] \n",
      "\n",
      "movieId                   title\n",
      "  73017  Sherlock Holmes (2009)\n",
      "  51540           Zodiac (2007)\n",
      "   3952   Contender, The (2000)\n",
      "   1682 Truman Show, The (1998)\n",
      "   8869   First Daughter (2004)\n",
      " 140174             Room (2015)\n",
      "  32289     Ice Princess (2005)\n",
      "   4155   Sweet November (2001)\n",
      "   3912        Beautiful (2000)\n",
      "    378       Speechless (1994)\n"
     ]
    }
   ],
   "source": [
    "similar_movies(91542)"
   ]
  },
  {
   "cell_type": "code",
   "execution_count": 49,
   "id": "09611ae5-cbce-475b-85ac-efe0f132db37",
   "metadata": {},
   "outputs": [
    {
     "name": "stdout",
     "output_type": "stream",
     "text": [
      "Movie: [356, 'Forrest Gump (1994)'] \n",
      "\n",
      "movieId                                    title\n",
      "   2797                               Big (1988)\n",
      "   4995                 Beautiful Mind, A (2001)\n",
      "   3271                   Of Mice and Men (1992)\n",
      "   4047                        Gettysburg (1993)\n",
      "   1439                 Meet Wally Sparks (1997)\n",
      "   4340                       Animal, The (2001)\n",
      "   1445                     McHale's Navy (1997)\n",
      " 110553          The Amazing Spider-Man 2 (2014)\n",
      "   3061                       Holiday Inn (1942)\n",
      "   8695 Bachelor and the Bobby-Soxer, The (1947)\n"
     ]
    }
   ],
   "source": [
    "similar_movies(356)"
   ]
  },
  {
   "cell_type": "code",
   "execution_count": 198,
   "id": "7ed28aee-26d8-4325-9e6e-baebfd358bd5",
   "metadata": {},
   "outputs": [],
   "source": [
    "def save_parameters(W, X, b, filename):\n",
    "    # To save the learned parameters in a binary file.\n",
    "    data = (W, X, b)\n",
    "    with open(filename, 'wb') as file:\n",
    "        pickle.dump(data, file)"
   ]
  },
  {
   "cell_type": "code",
   "execution_count": 197,
   "id": "39bf3cc8-7afe-49e2-a83b-9c2720c53b4b",
   "metadata": {},
   "outputs": [],
   "source": [
    "#save_parameters(W, X, b, 'filename')"
   ]
  },
  {
   "cell_type": "markdown",
   "id": "3729587a-f514-4ca0-b811-44c32db6ac65",
   "metadata": {},
   "source": [
    "## Conclusion\n",
    "\n",
    "Using very limited data about the movies and the users, we were able to extract valuable information and make productive inferences. "
   ]
  }
 ],
 "metadata": {
  "kernelspec": {
   "display_name": "Python 3 (ipykernel)",
   "language": "python",
   "name": "python3"
  },
  "language_info": {
   "codemirror_mode": {
    "name": "ipython",
    "version": 3
   },
   "file_extension": ".py",
   "mimetype": "text/x-python",
   "name": "python",
   "nbconvert_exporter": "python",
   "pygments_lexer": "ipython3",
   "version": "3.9.6"
  }
 },
 "nbformat": 4,
 "nbformat_minor": 5
}
